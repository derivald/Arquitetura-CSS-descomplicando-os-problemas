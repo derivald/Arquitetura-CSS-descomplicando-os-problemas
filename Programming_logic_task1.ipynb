{
  "nbformat": 4,
  "nbformat_minor": 0,
  "metadata": {
    "colab": {
      "provenance": [],
      "authorship_tag": "ABX9TyNsq1A4zYmJNIFJkJYiOrsX",
      "include_colab_link": true
    },
    "kernelspec": {
      "name": "python3",
      "display_name": "Python 3"
    },
    "language_info": {
      "name": "python"
    }
  },
  "cells": [
    {
      "cell_type": "markdown",
      "metadata": {
        "id": "view-in-github",
        "colab_type": "text"
      },
      "source": [
        "<a href=\"https://colab.research.google.com/github/derivald/Arquitetura-CSS-descomplicando-os-problemas/blob/master/Programming_logic_task1.ipynb\" target=\"_parent\"><img src=\"https://colab.research.google.com/assets/colab-badge.svg\" alt=\"Open In Colab\"/></a>"
      ]
    },
    {
      "cell_type": "markdown",
      "source": [
        "# **Programming logic with Python**"
      ],
      "metadata": {
        "id": "o-xSDBVOCk2k"
      }
    },
    {
      "cell_type": "code",
      "execution_count": null,
      "metadata": {
        "id": "oWyCH0DtCLlp"
      },
      "outputs": [],
      "source": [
        "1+1"
      ]
    },
    {
      "cell_type": "code",
      "source": [
        "'Derivaldo'"
      ],
      "metadata": {
        "id": "dEui2ybFCpT_"
      },
      "execution_count": null,
      "outputs": []
    },
    {
      "cell_type": "code",
      "source": [
        "name = 'Derivaldo'"
      ],
      "metadata": {
        "id": "m8iTXJiRDOOA"
      },
      "execution_count": null,
      "outputs": []
    },
    {
      "cell_type": "code",
      "source": [
        "name = 'Derivaldo'"
      ],
      "metadata": {
        "id": "nRAQeYEuD0oz"
      },
      "execution_count": null,
      "outputs": []
    },
    {
      "cell_type": "code",
      "source": [
        "age = 56"
      ],
      "metadata": {
        "id": "SLhtvGMGD4VQ"
      },
      "execution_count": null,
      "outputs": []
    },
    {
      "cell_type": "code",
      "source": [
        "print(f' The name é {name} and his age is{age} years old')"
      ],
      "metadata": {
        "id": "PUJRd90sfpbs"
      },
      "execution_count": null,
      "outputs": []
    },
    {
      "cell_type": "markdown",
      "source": [
        "# Criando Minha Primeira Função"
      ],
      "metadata": {
        "id": "oJ02uObAjsFr"
      }
    },
    {
      "cell_type": "code",
      "source": [
        "def greeting():\n",
        "  name = input('What is your name? ')\n",
        "  print(f'Hello {name}')"
      ],
      "metadata": {
        "id": "9sXKZVuBj75I"
      },
      "execution_count": 2,
      "outputs": []
    },
    {
      "cell_type": "code",
      "source": [
        "greeting()"
      ],
      "metadata": {
        "id": "cFxS_YKfkwpY"
      },
      "execution_count": null,
      "outputs": []
    },
    {
      "cell_type": "code",
      "source": [
        "def fullName():\n",
        "  firstName = input('What is your first name? ')\n",
        "  lastName = input('What is your last name? ')\n",
        "  nomeInteiro = firstName + ' ' + lastName\n",
        "  print(nomeInteiro)"
      ],
      "metadata": {
        "id": "lZrT1uQxuyx7"
      },
      "execution_count": null,
      "outputs": []
    }
  ]
}